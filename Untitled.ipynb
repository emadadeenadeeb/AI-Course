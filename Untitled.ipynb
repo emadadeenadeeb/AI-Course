{
 "cells": [
  {
   "cell_type": "code",
   "execution_count": 23,
   "metadata": {},
   "outputs": [],
   "source": [
    "import math\n",
    "class Person:\n",
    "    \"\"\"\n",
    "    Person is a class that has the parameters of:\n",
    "    name , age , posX , posY\n",
    "    \n",
    "    \"\"\"\n",
    "    def __inIt__(self, name, age, posX, posY):\n",
    "        \"\"\"\n",
    "        __inIt__ is a function that help initialize parameters\n",
    "        ofany class person with values\n",
    "        \n",
    "        \"\"\"\n",
    "        self.name = name.capitalize()\n",
    "        self.age = age\n",
    "        self.posX = posX\n",
    "        self.posY = posY\n",
    "    def print_name(self):\n",
    "        \"\"\"\n",
    "        print_name is a function that prints the name given to a person \n",
    "        calss \n",
    "        \n",
    "        args:\n",
    "        takes no arguments\n",
    "        \n",
    "        return type:\n",
    "        String\n",
    "        \"\"\"\n",
    "        print (self.name)\n",
    "    def printAge(self):\n",
    "        \"\"\"\n",
    "        printAge is a funtion that prints the age given to a person\n",
    "        calss\n",
    "        \n",
    "        args:\n",
    "        takes no arguments\n",
    "        \n",
    "        return type:\n",
    "        int number\n",
    "        \"\"\"\n",
    "        print (self.age)\n",
    "    def my_position (self):\n",
    "        \"\"\"\n",
    "        my_position is a function that prints the current (given) position\n",
    "        to a person class\n",
    "        \n",
    "        args:\n",
    "        takes no arguments\n",
    "        \n",
    "        return type:\n",
    "        two float numbers\n",
    "        \n",
    "        \"\"\"\n",
    "        print ('(',self.posX,',',self.posY,')')\n",
    "    def move(self, newX , newY):\n",
    "        \"\"\"\n",
    "        move is a function that prints the new position of a person \n",
    "        \n",
    "        args:\n",
    "        newX: the new position on x\n",
    "        newY: the new position on y\n",
    "        \n",
    "        return type:\n",
    "        two float numbers\n",
    "        \"\"\"\n",
    "        print(self.name,'moved to position (', newX,',',newY,')')\n",
    "    def __dis__(self , posX , posY , newX , newY):\n",
    "        \"\"\"\n",
    "        __dis__ is a function that prints the distance between two locations\n",
    "        \n",
    "        args:\n",
    "        posX: the old position on x\n",
    "        posY: the old position on y\n",
    "        newX: \"\"\"\n",
    "        distance = math.sqrt(((newX-self.posX)**2)+((newY-self.posY)**2))\n",
    "        print (self.name,\"moved a distance of \",distance)"
   ]
  },
  {
   "cell_type": "code",
   "execution_count": 13,
   "metadata": {},
   "outputs": [],
   "source": [
    "person1 = Person() "
   ]
  },
  {
   "cell_type": "code",
   "execution_count": 17,
   "metadata": {},
   "outputs": [],
   "source": [
    "person1.__inIt__ (\"tareq\",15,5,3)"
   ]
  },
  {
   "cell_type": "code",
   "execution_count": 18,
   "metadata": {},
   "outputs": [
    {
     "name": "stdout",
     "output_type": "stream",
     "text": [
      "15\n"
     ]
    }
   ],
   "source": [
    "person1.printAge()"
   ]
  },
  {
   "cell_type": "code",
   "execution_count": 19,
   "metadata": {},
   "outputs": [
    {
     "name": "stdout",
     "output_type": "stream",
     "text": [
      "Tareq\n"
     ]
    }
   ],
   "source": [
    "person1.print_name()"
   ]
  },
  {
   "cell_type": "code",
   "execution_count": 20,
   "metadata": {},
   "outputs": [
    {
     "name": "stdout",
     "output_type": "stream",
     "text": [
      "( 5 , 3 )\n"
     ]
    }
   ],
   "source": [
    "person1.my_position()\n"
   ]
  },
  {
   "cell_type": "code",
   "execution_count": 21,
   "metadata": {},
   "outputs": [
    {
     "name": "stdout",
     "output_type": "stream",
     "text": [
      "Tareq moved to position ( 9 , 6 )\n"
     ]
    }
   ],
   "source": [
    "person1.move(9,6)"
   ]
  },
  {
   "cell_type": "code",
   "execution_count": 22,
   "metadata": {},
   "outputs": [
    {
     "name": "stdout",
     "output_type": "stream",
     "text": [
      "Tareq moved a distance of  5.0\n"
     ]
    }
   ],
   "source": [
    "person1.__dis__(5,3,9,6)"
   ]
  },
  {
   "cell_type": "code",
   "execution_count": null,
   "metadata": {},
   "outputs": [],
   "source": []
  }
 ],
 "metadata": {
  "kernelspec": {
   "display_name": "Python 3",
   "language": "python",
   "name": "python3"
  },
  "language_info": {
   "codemirror_mode": {
    "name": "ipython",
    "version": 3
   },
   "file_extension": ".py",
   "mimetype": "text/x-python",
   "name": "python",
   "nbconvert_exporter": "python",
   "pygments_lexer": "ipython3",
   "version": "3.7.3"
  }
 },
 "nbformat": 4,
 "nbformat_minor": 2
}
