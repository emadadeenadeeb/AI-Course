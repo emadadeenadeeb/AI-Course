{
 "cells": [
  {
   "cell_type": "code",
   "execution_count": 1,
   "metadata": {},
   "outputs": [],
   "source": [
    "def f(a = [], n = 0):\n",
    "    \"\"\"\n",
    "    f() is a function that compares the value of \n",
    "    two added numbers stored in one list, with a value\n",
    "    of an entered integer number \n",
    "    ..................................................\n",
    "    args:\n",
    "    it takes two arguments as shown above. \n",
    "    the first one is [a] which is alist of\n",
    "    entered integer numbers, that we aim to get adding\n",
    "    value from , and the seconde is \n",
    "    [n] which indicates the number to be compared \n",
    "    with\n",
    "    ..................................................\n",
    "    return values:\n",
    "    two lists .. \n",
    "    The first one is a list consists of the two numbers that\n",
    "    fulfill the condition required.\n",
    "    The seconde is aslo a list, which consists of the index numbers\n",
    "    of the value\n",
    "    ..................................................\n",
    "    \"\"\"\n",
    "    for i in range(len(a)-1):\n",
    "        for j in range (i+1, len(a)-2):\n",
    "            if a[i] + a[j] == n:\n",
    "                print ([a[i],a[j]])\n",
    "                print ([i , j])\n",
    "               "
   ]
  },
  {
   "cell_type": "code",
   "execution_count": 2,
   "metadata": {},
   "outputs": [],
   "source": [
    "e = [1,2,9,5,8,5,8]\n",
    "n = 13"
   ]
  },
  {
   "cell_type": "code",
   "execution_count": 3,
   "metadata": {},
   "outputs": [
    {
     "name": "stdout",
     "output_type": "stream",
     "text": [
      "[5, 8]\n",
      "[3, 4]\n"
     ]
    }
   ],
   "source": [
    "f(e,n)"
   ]
  },
  {
   "cell_type": "code",
   "execution_count": null,
   "metadata": {},
   "outputs": [],
   "source": []
  }
 ],
 "metadata": {
  "kernelspec": {
   "display_name": "Python 3",
   "language": "python",
   "name": "python3"
  },
  "language_info": {
   "codemirror_mode": {
    "name": "ipython",
    "version": 3
   },
   "file_extension": ".py",
   "mimetype": "text/x-python",
   "name": "python",
   "nbconvert_exporter": "python",
   "pygments_lexer": "ipython3",
   "version": "3.7.3"
  }
 },
 "nbformat": 4,
 "nbformat_minor": 2
}
