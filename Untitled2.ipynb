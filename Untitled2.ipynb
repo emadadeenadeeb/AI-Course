{
 "cells": [
  {
   "cell_type": "code",
   "execution_count": 1,
   "metadata": {},
   "outputs": [],
   "source": [
    "def g(a = [], b = []):\n",
    "    \"\"\"\n",
    "    g() is a function in which we can calculate the value of\n",
    "    1/n*(sum (xi - yi)^2)\n",
    "    ........................................\n",
    "    args:\n",
    "    it takes exactly two arguments [a] which is a list\n",
    "    and [b] also a list\n",
    "    ........................................\n",
    "    return values:\n",
    "    the calculated value of the function\n",
    "    1/n*(sum (xi - yi)^2)\n",
    "    ........................................\n",
    "    \"\"\"\n",
    "    \n",
    "    c = []\n",
    "    if len (a) == len (b):        \n",
    "        n = len (b)\n",
    "        for x in range (len(a)):\n",
    "            c.append((a[x]-b[x])**2) \n",
    "        print (\"m = \", 1/n*(sum(c)))\n",
    "    else :\n",
    "        print (\"Process can't be completed\")"
   ]
  },
  {
   "cell_type": "code",
   "execution_count": 2,
   "metadata": {},
   "outputs": [],
   "source": [
    "a = [5,3,6,9,8,7]\n",
    "b = [1,2,3,5,8,5]"
   ]
  },
  {
   "cell_type": "code",
   "execution_count": 3,
   "metadata": {},
   "outputs": [
    {
     "name": "stdout",
     "output_type": "stream",
     "text": [
      "m =  7.666666666666666\n"
     ]
    }
   ],
   "source": [
    "g(a,b)"
   ]
  },
  {
   "cell_type": "code",
   "execution_count": null,
   "metadata": {},
   "outputs": [],
   "source": []
  }
 ],
 "metadata": {
  "kernelspec": {
   "display_name": "Python 3",
   "language": "python",
   "name": "python3"
  },
  "language_info": {
   "codemirror_mode": {
    "name": "ipython",
    "version": 3
   },
   "file_extension": ".py",
   "mimetype": "text/x-python",
   "name": "python",
   "nbconvert_exporter": "python",
   "pygments_lexer": "ipython3",
   "version": "3.7.3"
  }
 },
 "nbformat": 4,
 "nbformat_minor": 2
}
